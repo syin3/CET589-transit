{
 "cells": [
  {
   "cell_type": "code",
   "execution_count": 1,
   "metadata": {
    "ExecuteTime": {
     "end_time": "2019-12-12T06:43:39.848607Z",
     "start_time": "2019-12-12T06:43:39.120544Z"
    },
    "slideshow": {
     "slide_type": "skip"
    }
   },
   "outputs": [
    {
     "name": "stdout",
     "output_type": "stream",
     "text": [
      "Using matplotlib backend: MacOSX\n"
     ]
    }
   ],
   "source": [
    "%matplotlib\n",
    "import matplotlib.pyplot as plt\n",
    "plt.ion()"
   ]
  },
  {
   "cell_type": "markdown",
   "metadata": {
    "slideshow": {
     "slide_type": "slide"
    }
   },
   "source": [
    "## Evaluating Metro Station Performance (MSP) with Smart Card Data: Evident from Shanghai, China\n",
    "### CET 589 project\n",
    "#### Ray Huang, Yuanjie Tu, Shuyi Yin"
   ]
  },
  {
   "cell_type": "markdown",
   "metadata": {
    "slideshow": {
     "slide_type": "slide"
    }
   },
   "source": [
    "### Outline\n",
    "+ Project Objective\n",
    "+ Project Design\n",
    "+ Results\n",
    "+ Summary"
   ]
  },
  {
   "cell_type": "markdown",
   "metadata": {
    "slideshow": {
     "slide_type": "slide"
    }
   },
   "source": [
    "### Project Objective\n",
    "To evaluate **Metro Station Performance (MSP)**\n",
    "+ from the perspective of metro-bus integration with one-month smart card data;"
   ]
  },
  {
   "cell_type": "markdown",
   "metadata": {
    "slideshow": {
     "slide_type": "subslide"
    }
   },
   "source": [
    "<img style=\"width: 1200px\" src=\"figures/intro background.png\" alt=\"Drawing\" align=\"center\"/>"
   ]
  },
  {
   "cell_type": "markdown",
   "metadata": {
    "slideshow": {
     "slide_type": "subslide"
    }
   },
   "source": [
    "#### Literature Review\n",
    "+ Most MSP evaluation research leaves out metro-bus integration factors\n",
    "    - existing studies focus on evaluating metro waiting time (Yin et al., 2017), crowdedness (Wu & Ma, 2012), vulnerability (Sun et al., 2015), etc;\n",
    "    \n",
    "+ Prior studies mainly acquired data via surveys or interviews\n",
    "    - low accuracy, incomplete information, and various sampling biases;\n",
    "    - most of them do not capture real-time human activities;"
   ]
  },
  {
   "cell_type": "markdown",
   "metadata": {
    "slideshow": {
     "slide_type": "slide"
    }
   },
   "source": [
    "### Project Design"
   ]
  },
  {
   "cell_type": "markdown",
   "metadata": {
    "slideshow": {
     "slide_type": "subslide"
    }
   },
   "source": [
    "#### Study Area"
   ]
  },
  {
   "cell_type": "markdown",
   "metadata": {
    "ExecuteTime": {
     "end_time": "2019-12-12T01:45:45.111136Z",
     "start_time": "2019-12-12T01:45:45.103200Z"
    },
    "slideshow": {
     "slide_type": "fragment"
    }
   },
   "source": [
    "+ consists of metro stations in Shanghai, China;\n",
    "+ has taken great efforts in promoting metro-bus integration;\n",
    "\n",
    "<img style=\"width: 500px\" src=\"figures/metro overall.png\" alt=\"Drawing\" align=\"center\"/>"
   ]
  },
  {
   "cell_type": "markdown",
   "metadata": {
    "slideshow": {
     "slide_type": "subslide"
    }
   },
   "source": [
    "### Data\n",
    "#### The smart card data of Shanghai\n",
    "+ collected real-time human transit activities;\n",
    "+ spanned from the March 1$^{\\textrm{st}}$ to 27$^{\\textrm{th}}$ in 2016 (27 days) in Shanghai;\n",
    "+ consists of 326M+ records;\n",
    "\n",
    "| user id | date  | time | location | mode | price | discount |\n",
    "| :-: | :-: | :-: | :-: | :-: | :-: | :-:|\n",
    "|3102664781 | 2016-03-01 | 10:51:52 | Line 11 Fengqiao Road | Metro | 0 | 0 |\n",
    "|3102664781 | 2016-03-01 | 11:38:03 | Line 3 Hongkou Metro Station | Metro | 3 | 0 |\n",
    "|3102664781 | 2016-03-01 | 21:43:07 | Line 3 Hongkou Metro Station | Metro | 0 | 0 |\n",
    "|3102664781 | 2016-03-01 | 22:03:05 | Line 3 Caoyang Road | Metro | 4 | 0 |\n",
    "|2801445313 | 2016-03-03 | 08:32:25 | Line 813 | Bus | 2 | 1 | \n",
    "|2801445313 | 2016-03-03 | 09:19:00 | None | Taxi | 25 | 0 |\n",
    "|2801445313 | 2016-03-03 | 16:43:10 | Line 760 | Bus | 2 | 1 |\n",
    "|2801445313 | 2016-03-03 | 16:56:51 | Line 559 | Bus | 1 | 0 |\n",
    "|2801445313 | 2016-03-03 | 18:08:30 | Line 868 | Bus | 1 | 0 |\n",
    "|2801445313 | 2016-03-03 | 18:33:48 | Line 813 | Bus | 1 | 0 |"
   ]
  },
  {
   "cell_type": "markdown",
   "metadata": {
    "slideshow": {
     "slide_type": "subslide"
    }
   },
   "source": [
    "#### Overall transaction counts"
   ]
  },
  {
   "cell_type": "markdown",
   "metadata": {
    "ExecuteTime": {
     "end_time": "2019-12-12T06:51:20.719045Z",
     "start_time": "2019-12-12T06:51:20.658280Z"
    },
    "slideshow": {
     "slide_type": "fragment"
    }
   },
   "source": [
    "<img style=\"width: 800px\" src=\"figures/monthly record count.png\" alt=\"Drawing\" align=\"center\"/>"
   ]
  },
  {
   "cell_type": "markdown",
   "metadata": {
    "slideshow": {
     "slide_type": "subslide"
    }
   },
   "source": [
    "#### Daily transaction counts"
   ]
  },
  {
   "cell_type": "markdown",
   "metadata": {
    "slideshow": {
     "slide_type": "fragment"
    }
   },
   "source": [
    "<img style=\"width: 800px\" src=\"figures/daily record count.png\" alt=\"Drawing\" align=\"center\"/>"
   ]
  },
  {
   "cell_type": "markdown",
   "metadata": {
    "slideshow": {
     "slide_type": "subslide"
    }
   },
   "source": [
    "#### Methods"
   ]
  },
  {
   "cell_type": "markdown",
   "metadata": {
    "slideshow": {
     "slide_type": "fragment"
    }
   },
   "source": [
    "+ Data processing:\n",
    "    - data cleaning;\n",
    "    - extracting peak-hour metro-bus trips;\n",
    "+ MSP Evaluation:\n",
    "    - determining metro-bus metrics;\n",
    "    - MSP measure;"
   ]
  },
  {
   "cell_type": "markdown",
   "metadata": {
    "slideshow": {
     "slide_type": "subslide"
    }
   },
   "source": [
    "#### MSP Evaluation\n",
    "+ Demand: metro-bus transfer volume;\n",
    "+ Service quality: transfer time;"
   ]
  },
  {
   "cell_type": "markdown",
   "metadata": {
    "slideshow": {
     "slide_type": "fragment"
    }
   },
   "source": [
    "<img style=\"width: 800px\" src=\"figures/msp measure framework.png\" alt=\"Drawing\" align=\"center\"/>"
   ]
  },
  {
   "cell_type": "markdown",
   "metadata": {
    "ExecuteTime": {
     "end_time": "2019-12-12T01:24:12.383381Z",
     "start_time": "2019-12-12T01:24:12.375048Z"
    },
    "slideshow": {
     "slide_type": "subslide"
    }
   },
   "source": [
    "#### MSP Evaluation Metric 1 - transfer trip volume\n",
    "#### MSP Evaluation Metric 2 - trip-average transfer time\n",
    "$$\n",
    "\\\\~\\\\\n",
    "\\begin{aligned}\n",
    "t_{\\text{metro-bus-transfer}} & = T_{\\text{board}} - T_{\\text{alight}}\\\\\n",
    "t_{\\text{metro-bus-transfer}} & = t_{\\text{wait}} + t_{\\text{walk}}\n",
    "\\end{aligned}\n",
    "$$"
   ]
  },
  {
   "cell_type": "markdown",
   "metadata": {
    "ExecuteTime": {
     "end_time": "2019-12-12T02:54:58.669627Z",
     "start_time": "2019-12-12T02:54:58.659946Z"
    },
    "slideshow": {
     "slide_type": "skip"
    }
   },
   "source": [
    "$$\n",
    "\\begin{aligned}\n",
    "\\text{where }t_{\\text{metro-bus-transfer}}: &\\text{ metro-bus transfer time}\\\\\n",
    "T_{\\text{board}}: &\\text{ bus boarding time}\\\\\n",
    "T_{\\text{alight}}: &\\text{ metro alighting time}\\\\\n",
    "t_{\\text{wait}}: &\\text{ transfer waiting time}\\\\\n",
    "t_{\\text{walk}}: &\\text{ transfer waiting time}\\\\\n",
    "\\end{aligned}\n",
    "$$"
   ]
  },
  {
   "cell_type": "markdown",
   "metadata": {
    "slideshow": {
     "slide_type": "slide"
    }
   },
   "source": [
    "### Results"
   ]
  },
  {
   "cell_type": "markdown",
   "metadata": {
    "slideshow": {
     "slide_type": "subslide"
    }
   },
   "source": [
    "#### Statistical\n",
    "\n",
    "<img style=\"float: left; width: 400px\" src=\"figures/transfer time dist.png\" alt=\"Drawing\"/>\n",
    "<img style=\"float: right; width: 400px\" src=\"figures/volume dist.png\" alt=\"Drawing\"/>"
   ]
  },
  {
   "cell_type": "markdown",
   "metadata": {
    "slideshow": {
     "slide_type": "fragment"
    }
   },
   "source": [
    "\n",
    "| term | Mean  | Median | Std. | Min. | Max. |\n",
    "| :-: | :-: | :-: | :-: | :-: | :-: |\n",
    "|transfer time (min)| 8.86 | 8.57 | 2.50 | 3.14 | 1.46 |\n",
    "| Metro-Bus volume (trip counts)| 10,895.33 | 5526 | 15,394.95 | 5 | 126,244 |"
   ]
  },
  {
   "cell_type": "markdown",
   "metadata": {
    "slideshow": {
     "slide_type": "subslide"
    }
   },
   "source": [
    "#### Spatial\n",
    "<img style=\"float: left; width: 400px\" src=\"figures/transfer time spatial.png\" alt=\"Drawing\"/>\n",
    "<img style=\"float: right; width: 400px\" src=\"figures/volume spatial.png\" alt=\"Drawing\"/>"
   ]
  },
  {
   "cell_type": "markdown",
   "metadata": {
    "slideshow": {
     "slide_type": "subslide"
    }
   },
   "source": [
    "#### MSP Evaluation\n",
    "<img style=\"float: left; width: 400px\" src=\"figures/volume wait time.png\" alt=\"Drawing\"/>\n",
    "<img style=\"float: right; width: 400px\" src=\"figures/category spatial.png\" alt=\"Drawing\"/>"
   ]
  },
  {
   "cell_type": "markdown",
   "metadata": {
    "slideshow": {
     "slide_type": "slide"
    }
   },
   "source": [
    "### Summary"
   ]
  },
  {
   "cell_type": "markdown",
   "metadata": {
    "slideshow": {
     "slide_type": "subslide"
    }
   },
   "source": [
    "#### Conlcusion\n",
    "+ Metro-bus transfer time ranges from 3.14 to 17.46 minutes, and have a short average of 8.86 minutes;\n",
    "+ 42 H-H, 97 H-L, 42 L-L and 97 H-L metro stations;\n",
    "+ To reduce metro-bus transfer time, local government can\n",
    "    + improve bus stop accessibility;\n",
    "    + optimize bus headways / arrival times;\n",
    "    + add amenities at bus stops;"
   ]
  },
  {
   "cell_type": "markdown",
   "metadata": {
    "slideshow": {
     "slide_type": "subslide"
    }
   },
   "source": [
    "### Limitations\n",
    "+ devised too few metrics to describe the overall performance of metro stations;\n",
    "+ lacked more detailed eveidence from specific cases;\n",
    "+ only focused on activities of weekday perk-hours;"
   ]
  },
  {
   "cell_type": "markdown",
   "metadata": {
    "slideshow": {
     "slide_type": "slide"
    }
   },
   "source": [
    "## Thanks!\n",
    "### Q&A time"
   ]
  }
 ],
 "metadata": {
  "celltoolbar": "Slideshow",
  "kernelspec": {
   "display_name": "Python 3",
   "language": "python",
   "name": "python3"
  },
  "language_info": {
   "codemirror_mode": {
    "name": "ipython",
    "version": 3
   },
   "file_extension": ".py",
   "mimetype": "text/x-python",
   "name": "python",
   "nbconvert_exporter": "python",
   "pygments_lexer": "ipython3",
   "version": "3.6.2"
  }
 },
 "nbformat": 4,
 "nbformat_minor": 2
}
